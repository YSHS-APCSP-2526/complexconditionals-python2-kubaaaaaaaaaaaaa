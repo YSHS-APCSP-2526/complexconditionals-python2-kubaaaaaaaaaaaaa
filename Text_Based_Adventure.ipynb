{
  "nbformat": 4,
  "nbformat_minor": 0,
  "metadata": {
    "colab": {
      "provenance": [],
      "include_colab_link": true
    },
    "kernelspec": {
      "name": "python3",
      "display_name": "Python 3"
    },
    "language_info": {
      "name": "python"
    }
  },
  "cells": [
    {
      "cell_type": "markdown",
      "metadata": {
        "id": "view-in-github",
        "colab_type": "text"
      },
      "source": [
        "<a href=\"https://colab.research.google.com/github/YSHS-APCSP-2526/complexconditionals-python2-kubaaaaaaaaaaaaa/blob/main/Text_Based_Adventure.ipynb\" target=\"_parent\"><img src=\"https://colab.research.google.com/assets/colab-badge.svg\" alt=\"Open In Colab\"/></a>"
      ]
    },
    {
      "cell_type": "markdown",
      "source": [
        "#Requirements for text based adventure\n",
        "1. You must have at least 2 different \"paths\" that are at least 4 decisions in length\n",
        "2. Include an element of randomness (from the random library)\n",
        "3. Include a list that is core to the text based adventure\n",
        "4. Include a function that is called within your program that includes a while loop, and a parameter that influences a conditional statement in your function.\n",
        "5. Commented Code.\n",
        "6. A [digital flowchart](https://docs.google.com/document/d/1p2k3wL6gzjYWBuWxwEQptmbbOZZNsQrthlC12SNtYgY/edit?usp=sharing) that follows accepted symbols for representing code. You can use google slides or [draw.io](https://www.drawio.com/) for the flowchart."
      ],
      "metadata": {
        "id": "zpSmche7G_jy"
      }
    },
    {
      "cell_type": "code",
      "source": [
        "def main():\n",
        "  response = intro()\n",
        "  choice1(response)\n",
        "  response2 = dealership()\n",
        "  choice2(response)"
      ],
      "metadata": {
        "id": "LQuG-KfJlMj3"
      },
      "execution_count": 126,
      "outputs": []
    },
    {
      "cell_type": "code",
      "source": [
        "import time\n",
        "import sys\n",
        "def intro():\n",
        "  response = input(\"Your car is already on the verge of breaking down, \\nand you pass by a dealer and see a car you want for a good price. \\nDo you stop? Y or N\")\n",
        "  print(\"...\")\n",
        "  time.sleep(1)\n",
        "  print(\"...\")\n",
        "  time.sleep(1)\n",
        "  print(\"...\")\n",
        "  return response"
      ],
      "metadata": {
        "id": "DCa0oKHZ8bxq"
      },
      "execution_count": 120,
      "outputs": []
    },
    {
      "cell_type": "code",
      "source": [
        "def choice1(response):\n",
        "  response = (response).lower()\n",
        "  if response =='y' or response =='yes':\n",
        "    print(\"You turn into the dealership excited... ready for a nice new car!\")\n",
        "  else:\n",
        "    print(\"Your car breaks down at the next light! Have fun walking home\")\n",
        "    #sys.exit(0)"
      ],
      "metadata": {
        "id": "LZqVJi-18Ogh"
      },
      "execution_count": 121,
      "outputs": []
    },
    {
      "cell_type": "code",
      "source": [
        "def dealership():\n",
        "  response = input(\"You walk in and smell the scent of new cars. You see a 2025 Honda Accord. \\nDo you walk up to it? Y or N\")\n",
        "  print(\"...\")\n",
        "  time.sleep(1)\n",
        "  print(\"...\")\n",
        "  time.sleep(1)\n",
        "  print(\"...\")\n",
        "  return response"
      ],
      "metadata": {
        "id": "WlRDfYNELHI7"
      },
      "execution_count": 122,
      "outputs": []
    },
    {
      "cell_type": "code",
      "source": [
        "def choice2(response):\n",
        "  response = (response).lower()\n",
        "  if response =='y' or response =='yes':\n",
        "    print(\"The color is a silverish-gray, and it even comes with tinted windows!\")\n",
        "  else:\n",
        "    (\"You keep looking and find a Porsche 911. \\nYou'd expect it to cost nearly $200,000, but there seems to be something wrong with the price... It only costs $38,000!\")"
      ],
      "metadata": {
        "id": "aDH2fkXqR4sG"
      },
      "execution_count": 128,
      "outputs": []
    },
    {
      "cell_type": "code",
      "source": [
        "main()"
      ],
      "metadata": {
        "colab": {
          "base_uri": "https://localhost:8080/"
        },
        "id": "V3tByNCg6XY8",
        "outputId": "cc5a8d3e-2c0e-4616-89cb-8c4e0c83cbbe"
      },
      "execution_count": 129,
      "outputs": [
        {
          "output_type": "stream",
          "name": "stdout",
          "text": [
            "Your car is already on the verge of breaking down, \n",
            "and you pass by a dealer and see a car you want for a good price. \n",
            "Do you stop? Y or Ny\n",
            "...\n",
            "...\n",
            "...\n",
            "You turn into the dealership excited... ready for a nice new car!\n",
            "You walk in and smell the scent of new cars. You see a 2025 Honda Accord. \n",
            "Do you walk up to it? Y or NY\n",
            "...\n",
            "...\n",
            "...\n",
            "The color is a silverish-gray, and it even comes with tinted windows!\n"
          ]
        }
      ]
    }
  ]
}